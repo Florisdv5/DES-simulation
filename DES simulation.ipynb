{
 "cells": [
  {
   "cell_type": "markdown",
   "metadata": {},
   "source": [
    "    Roman Peerboom  10791523\n",
    "    Floris de Vries 11710799"
   ]
  },
  {
   "cell_type": "code",
   "execution_count": 85,
   "metadata": {},
   "outputs": [],
   "source": [
    "import numpy\n",
    "import simpy\n",
    "import random\n",
    "import statistics "
   ]
  },
  {
   "cell_type": "code",
   "execution_count": 236,
   "metadata": {},
   "outputs": [],
   "source": [
    "lambda_1 = arrival_rate = 10              # Arrival rate, events in given time period\n",
    "time_in_system = 20                       # Mean time in system \n",
    "mu = 1/time_in_system                     # How much people one server can help for a given time period \n"
   ]
  },
  {
   "cell_type": "code",
   "execution_count": 486,
   "metadata": {},
   "outputs": [],
   "source": [
    "def source(env, number, lambda_1, counter, mu):\n",
    "    \"\"\"Source generates customers randomly\"\"\"\n",
    "    for i in range(number):\n",
    "        c = object(env, 'Customer%02d' % i, counter, mu)\n",
    "        env.process(c)\n",
    "        t = 1-random.expovariate(-lambda_1)\n",
    "        yield env.timeout(t)\n",
    "        \n",
    "        \n",
    "def object(env, name, counter, mu):\n",
    "    \"\"\"Customer arrives, is served and leaves.\"\"\"\n",
    "    arrive = env.now\n",
    "#     print('%7.4f %s: Here I am' % (arrive, name))\n",
    "    with counter.request() as req:\n",
    "        results = yield req\n",
    "        wait = env.now - arrive\n",
    "        waiting_times.append(wait)\n",
    "        # We got to the counter\n",
    "#         print('%7.4f %s: Waited %6.3f' % (env.now, name, wait))\n",
    "        tib = 1- random.expovariate(-mu)\n",
    "        yield env.timeout(tib)\n",
    "#         print('%7.4f %s: Finished' % (env.now, name))\n"
   ]
  },
  {
   "cell_type": "code",
   "execution_count": 508,
   "metadata": {},
   "outputs": [
    {
     "name": "stdout",
     "output_type": "stream",
     "text": [
      "ρ is: 0.98 for 1 servers.\n",
      "Average waiting time for this simulation: 47.14275085390751\n",
      "Average waiting time for this simulation: 31.221310436751576\n",
      "Average waiting time for this simulation: 33.19586305241329\n",
      "Average waiting time for this simulation: 55.22007894127132\n",
      "Average waiting time for this simulation: 29.786190352881018\n",
      "Average waiting time for this simulation: 43.36534800551942\n",
      "Average waiting time for this simulation: 43.94721112227724\n",
      "Average waiting time for this simulation: 52.04876353944948\n",
      "Average waiting time for this simulation: 38.500787166328\n",
      "Average waiting time for this simulation: 64.23808466135122\n",
      "Average waiting time for this simulation: 49.106567600196996\n",
      "Average waiting time for this simulation: 77.32417650136192\n",
      "Average waiting time for this simulation: 28.20172742720168\n",
      "Average waiting time for this simulation: 59.58928128169268\n",
      "Average waiting time for this simulation: 34.10582590418343\n",
      "Average waiting time for this simulation: 71.49738737497435\n",
      "Average waiting time for this simulation: 25.905299225551946\n",
      "Average waiting time for this simulation: 54.73833398523734\n",
      "Average waiting time for this simulation: 58.36722582993486\n",
      "Average waiting time for this simulation: 61.01740654056022\n",
      "\n",
      "Average waiting time for all simulations: 47.925980990152276 with sd: 14.93229624618583 with ρ is: 0.98 for 1 servers.\n"
     ]
    }
   ],
   "source": [
    "n = 1                                      # Number of servers\n",
    "lambda_1 = arrival_rate = 1*n              # Arrival rate, events in given time period\n",
    "time_in_system = 0.98                         # Mean time in system \n",
    "mu = 1/time_in_system                      # How much people one server can help for a given time period \n",
    "\n",
    "number_of_arrivals = 10000000000\n",
    "print(\"\\N{greek small letter rho} is: \" + str(lambda_1/(n*mu)) + \" for \" + str(n) + \" servers.\")\n",
    "simulations = 20\n",
    "mean_waiting_times = []\n",
    "\n",
    "for simulation in range(simulations):\n",
    "    waiting_times = []\n",
    "    env = simpy.Environment()\n",
    "    server = simpy.Resource(env, capacity=n) \n",
    "    env.process(source(env,number_of_arrivals,lambda_1, server, mu))\n",
    "    env.run(until=100000)\n",
    "    print(\"Average waiting time for this simulation: \" + str(statistics.mean(waiting_times)))\n",
    "    mean_waiting_times.append(statistics.mean(waiting_times))\n",
    "    \n",
    "print(\"\\nAverage waiting time for all simulations: \" + str(statistics.mean(mean_waiting_times)) +\n",
    "      \" with sd: \" + str(statistics.stdev(mean_waiting_times)) + \" with \\N{greek small letter rho} is: \" \n",
    "      + str(lambda_1/(n*mu)) + \" for \" + str(n) + \" servers.\")"
   ]
  },
  {
   "cell_type": "code",
   "execution_count": 495,
   "metadata": {},
   "outputs": [
    {
     "name": "stdout",
     "output_type": "stream",
     "text": [
      "ρ is: 0.98 for 1 server(s).\n",
      "Average waiting time: 46.97562033997208 with sd: 19.40511238168693\n",
      "\n",
      "ρ is: 0.98 for 2 server(s).\n",
      "Average waiting time: 0.12912325329840557 with sd: 0.0024490032562412833\n",
      "\n",
      "ρ is: 0.98 for 4 server(s).\n",
      "Average waiting time: 0.00013613556810785092 with sd: 3.611890560488397e-05\n",
      "\n"
     ]
    }
   ],
   "source": [
    "n_s = [1, 2, 4]                              # Number of servers\n",
    "simulations = 20\n",
    "mean_waiting_times = [[],[],[]]\n",
    "\n",
    "for n_ind in range(len(n_s)):\n",
    "    n = n_s[n_ind]\n",
    "    lambda_1 = arrival_rate = 1*n              # Arrival rate, events in given time period\n",
    "    time_in_system = 0.98                         # Mean time in system \n",
    "    mu = 1/time_in_system                      # How much people one server can help for a given time period \n",
    "    number_of_arrivals = 10000000000\n",
    "    print(\"\\N{greek small letter rho} is: \" + str(lambda_1/(n*mu)) + \" for \" + str(n) + \" server(s).\")\n",
    "    for simulation in range(simulations):\n",
    "#         print(\"Simulation: \" + str(simulation))\n",
    "        waiting_times = []\n",
    "        env = simpy.Environment()\n",
    "        server = simpy.Resource(env, capacity=n) \n",
    "        env.process(source(env,number_of_arrivals,lambda_1, server, mu))\n",
    "        env.run(until=100000)\n",
    "#         print(\"Average waiting time for this simulation: \" + str(statistics.mean(waiting_times)))\n",
    "        mean_waiting_times[n_ind].append(statistics.mean(waiting_times))    \n",
    "    print(\"Average waiting time: \" + str(statistics.mean(mean_waiting_times[n_ind])) +\n",
    "          \" with sd: \" + str(statistics.stdev(mean_waiting_times[n_ind])) + \"\\n\")"
   ]
  },
  {
   "cell_type": "code",
   "execution_count": null,
   "metadata": {},
   "outputs": [],
   "source": []
  },
  {
   "cell_type": "code",
   "execution_count": 506,
   "metadata": {},
   "outputs": [
    {
     "name": "stderr",
     "output_type": "stream",
     "text": [
      "C:\\Users\\flori\\anaconda3\\lib\\site-packages\\seaborn\\axisgrid.py:923: UserWarning: FixedFormatter should only be used together with FixedLocator\n",
      "  ax.set_yticklabels(labels, **kwargs)\n"
     ]
    }
   ],
   "source": [
    "## Plotting the results as boxplots for different methods\n",
    "import seaborn as sns\n",
    "import matplotlib.pyplot as plt\n",
    "import pandas as pd\n",
    "\n",
    "\n",
    "df_1_server = pd.DataFrame({'Waiting time': mean_waiting_times[0], 'Method': ['1 server' for i in range(len(mean_waiting_times[0]))]})\n",
    "df_2_server = pd.DataFrame({'Waiting time': mean_waiting_times[1], 'Method': ['2 servers' for i in range(len(mean_waiting_times[1]))]})\n",
    "df_3_server = pd.DataFrame({'Waiting time': mean_waiting_times[2], 'Method': ['4 servers' for i in range(len(mean_waiting_times[2]))]})\n",
    "df_total = df_1_server.append(df_2_server)\n",
    "df_total = df_total.append(df_3_server)\n",
    "\n",
    "\n",
    "\n",
    "sns.reset_orig ()\n",
    "\n",
    "p = sns.catplot(x=\"Method\", y=\"Waiting time\", kind=\"box\", data=df_total, height=6, aspect=12/6)\n",
    "\n",
    "plt.xlabel(\"Amount of servers\", size = 20)\n",
    "plt.ylabel(\"Average waiting time\", size = 20)\n",
    "# plt.title(\"The area for different sampling methods\", size=20, y= 1.05)\n",
    "_, ylabels = plt.yticks()\n",
    "_, xlabels = plt.xticks()\n",
    "p.set_yticklabels(ylabels, size=15)\n",
    "p.set_xticklabels(xlabels, size=15)\n",
    "# p.set_yscale(\"log\")\n",
    "p.set(yscale=\"log\")\n",
    "\n",
    "plt.savefig('boxplots_server_amount.png', format='png', dpi=600, bbox_inches = \"tight\")\n"
   ]
  },
  {
   "cell_type": "code",
   "execution_count": null,
   "metadata": {},
   "outputs": [],
   "source": []
  }
 ],
 "metadata": {
  "kernelspec": {
   "display_name": "Python 3",
   "language": "python",
   "name": "python3"
  },
  "language_info": {
   "codemirror_mode": {
    "name": "ipython",
    "version": 3
   },
   "file_extension": ".py",
   "mimetype": "text/x-python",
   "name": "python",
   "nbconvert_exporter": "python",
   "pygments_lexer": "ipython3",
   "version": "3.8.3"
  }
 },
 "nbformat": 4,
 "nbformat_minor": 4
}
