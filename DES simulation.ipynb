{
 "cells": [
  {
   "cell_type": "markdown",
   "metadata": {},
   "source": [
    "    Roman Peerboom  10791523\n",
    "    Floris de Vries 11710799"
   ]
  },
  {
   "cell_type": "code",
   "execution_count": 85,
   "metadata": {},
   "outputs": [],
   "source": [
    "import numpy\n",
    "import simpy\n",
    "import random\n",
    "import statistics "
   ]
  },
  {
   "cell_type": "code",
   "execution_count": 121,
   "metadata": {},
   "outputs": [
    {
     "name": "stdout",
     "output_type": "stream",
     "text": [
      "9.213696518733505\n",
      "25.634480005729827\n"
     ]
    }
   ],
   "source": [
    "arrival_rate = 10              # Every ten seconds someone arrives, mean of the interval\n",
    "time_in_system = 20            # Mean time in system \n",
    "\n",
    "t_arr = random.expovariate(1.0 / arrival_rate)\n",
    "t_serv = random.expovariate(1.0 / time_in_system)\n",
    "\n",
    "print(t_arr)\n",
    "print(t_serv)"
   ]
  },
  {
   "cell_type": "code",
   "execution_count": 179,
   "metadata": {},
   "outputs": [
    {
     "name": "stdout",
     "output_type": "stream",
     "text": [
      "ρ is: 1.1\n",
      " 0.0000 Customer00: Here I am\n",
      " 0.0000 Customer00: Waited  0.000\n",
      " 0.0354 Customer00: Finished\n",
      "10.4143 Customer01: Here I am\n",
      "10.4143 Customer01: Waited  0.000\n",
      "11.2621 Customer01: Finished\n",
      "19.9650 Customer02: Here I am\n",
      "19.9650 Customer02: Waited  0.000\n",
      "26.2815 Customer02: Finished\n",
      "39.3639 Customer03: Here I am\n",
      "39.3639 Customer03: Waited  0.000\n",
      "43.8083 Customer04: Here I am\n",
      "47.4706 Customer05: Here I am\n",
      "53.0794 Customer06: Here I am\n",
      "54.6107 Customer07: Here I am\n",
      "58.1813 Customer03: Finished\n",
      "58.1813 Customer04: Waited 14.373\n",
      "59.0510 Customer08: Here I am\n",
      "59.3327 Customer04: Finished\n",
      "59.3327 Customer05: Waited 11.862\n",
      "63.7033 Customer05: Finished\n",
      "63.7033 Customer06: Waited 10.624\n",
      "65.5102 Customer06: Finished\n",
      "65.5102 Customer07: Waited 10.899\n",
      "70.5072 Customer09: Here I am\n",
      "79.4317 Customer07: Finished\n",
      "79.4317 Customer08: Waited 20.381\n",
      "81.6620 Customer08: Finished\n",
      "81.6620 Customer09: Waited 11.155\n",
      "82.3520 Customer09: Finished\n"
     ]
    }
   ],
   "source": [
    "def source(env, number, interval, counter, arrival_rate):\n",
    "    \"\"\"Source generates customers randomly\"\"\"\n",
    "    for i in range(number):\n",
    "        c = object(env, 'Customer%02d' % i, counter, time_in_system)\n",
    "        env.process(c)\n",
    "        t = random.expovariate(1.0 / interval)\n",
    "        yield env.timeout(t)\n",
    "        \n",
    "        \n",
    "def object(env, name, counter, time_in_system):\n",
    "    \"\"\"Customer arrives, is served and leaves.\"\"\"\n",
    "    arrive = env.now\n",
    "    print('%7.4f %s: Here I am' % (arrive, name))\n",
    "\n",
    "    with counter.request() as req:\n",
    "        results = yield req\n",
    "\n",
    "        wait = env.now - arrive\n",
    "\n",
    "        # We got to the counter\n",
    "        print('%7.4f %s: Waited %6.3f' % (env.now, name, wait))\n",
    "\n",
    "        tib = random.expovariate(1.0 / time_in_system)\n",
    "        yield env.timeout(tib)\n",
    "        print('%7.4f %s: Finished' % (env.now, name))\n",
    "\n",
    "\n",
    "\n",
    "arrival_rate = 11             # Every ten seconds someone arrives, mean of the interval\n",
    "time_in_system = 10            # Mean time in system \n",
    "number_of_arrivals = 10\n",
    "print(\"\\N{greek small letter rho} is: \" + str(arrival_rate/time_in_system))\n",
    "\n",
    "env = simpy.Environment()\n",
    "server = simpy.Resource(env, capacity=1) \n",
    "env.process(source(env,number_of_arrivals,arrival_rate, server, arrival_rate))\n",
    "env.run()\n"
   ]
  },
  {
   "cell_type": "code",
   "execution_count": 92,
   "metadata": {},
   "outputs": [
    {
     "name": "stdout",
     "output_type": "stream",
     "text": [
      "<simpy.core.Environment object at 0x00000168DB596490>\n",
      "<simpy.resources.resource.Resource object at 0x00000168DB596580>\n"
     ]
    }
   ],
   "source": []
  }
 ],
 "metadata": {
  "kernelspec": {
   "display_name": "Python 3",
   "language": "python",
   "name": "python3"
  },
  "language_info": {
   "codemirror_mode": {
    "name": "ipython",
    "version": 3
   },
   "file_extension": ".py",
   "mimetype": "text/x-python",
   "name": "python",
   "nbconvert_exporter": "python",
   "pygments_lexer": "ipython3",
   "version": "3.8.3"
  }
 },
 "nbformat": 4,
 "nbformat_minor": 4
}
