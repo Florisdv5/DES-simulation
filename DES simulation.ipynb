{
 "cells": [
  {
   "cell_type": "markdown",
   "metadata": {},
   "source": [
    "    Roman Peerboom  10791523\n",
    "    Floris de Vries 11710799"
   ]
  },
  {
   "cell_type": "code",
   "execution_count": 85,
   "metadata": {},
   "outputs": [],
   "source": [
    "import numpy\n",
    "import simpy\n",
    "import random\n",
    "import statistics "
   ]
  },
  {
   "cell_type": "code",
   "execution_count": 121,
   "metadata": {},
   "outputs": [
    {
     "name": "stdout",
     "output_type": "stream",
     "text": [
      "9.213696518733505\n",
      "25.634480005729827\n"
     ]
    }
   ],
   "source": [
    "arrival_rate = 10              # Every ten seconds someone arrives, mean of the interval\n",
    "time_in_system = 20            # Mean time in system \n",
    "\n",
    "t_arr = random.expovariate(1.0 / arrival_rate)\n",
    "t_serv = random.expovariate(1.0 / time_in_system)\n",
    "\n",
    "print(t_arr)\n",
    "print(t_serv)"
   ]
  },
  {
   "cell_type": "raw",
   "metadata": {},
   "source": [
    "def source(env, number, interval, counter, arrival_rate):\n",
    "    \"\"\"Source generates customers randomly\"\"\"\n",
    "    for i in range(number):\n",
    "        c = object(env, 'Customer%02d' % i, counter, time_in_system)\n",
    "        env.process(c)\n",
    "        t = random.expovariate(1.0 / interval)\n",
    "        yield env.timeout(t)\n",
    "        \n",
    "        \n",
    "def object(env, name, counter, time_in_system):\n",
    "    \"\"\"Customer arrives, is served and leaves.\"\"\"\n",
    "    arrive = env.now\n",
    "    print('%7.4f %s: Here I am' % (arrive, name))\n",
    "\n",
    "    with counter.request() as req:\n",
    "        results = yield req\n",
    "\n",
    "        wait = env.now - arrive\n",
    "\n",
    "        # We got to the counter\n",
    "        print('%7.4f %s: Waited %6.3f' % (env.now, name, wait))\n",
    "\n",
    "        tib = random.expovariate(1.0 / time_in_system)\n",
    "        yield env.timeout(tib)\n",
    "        print('%7.4f %s: Finished' % (env.now, name))\n",
    "\n",
    "\n",
    "\n",
    "arrival_rate = 11             # Every ten seconds someone arrives, mean of the interval\n",
    "time_in_system = 10            # Mean time in system \n",
    "number_of_arrivals = 10\n",
    "print(\"\\N{greek small letter rho} is: \" + str(arrival_rate/time_in_system))\n",
    "\n",
    "env = simpy.Environment()\n",
    "server = simpy.Resource(env, capacity=1) \n",
    "env.process(source(env,number_of_arrivals,arrival_rate, server, arrival_rate))\n",
    "env.run()\n"
   ]
  },
  {
   "cell_type": "code",
   "execution_count": 92,
   "metadata": {},
   "outputs": [
    {
     "name": "stdout",
     "output_type": "stream",
     "text": [
      "<simpy.core.Environment object at 0x00000168DB596490>\n",
      "<simpy.resources.resource.Resource object at 0x00000168DB596580>\n"
     ]
    }
   ],
   "source": []
  }
 ],
 "metadata": {
  "kernelspec": {
   "display_name": "Python 3",
   "language": "python",
   "name": "python3"
  },
  "language_info": {
   "codemirror_mode": {
    "name": "ipython",
    "version": 3
   },
   "file_extension": ".py",
   "mimetype": "text/x-python",
   "name": "python",
   "nbconvert_exporter": "python",
   "pygments_lexer": "ipython3",
   "version": "3.8.3"
  }
 },
 "nbformat": 4,
 "nbformat_minor": 4
}
