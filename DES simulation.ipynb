{
 "cells": [
  {
   "cell_type": "markdown",
   "metadata": {},
   "source": [
    "    Roman Peerboom  10791523\n",
    "    Floris de Vries 11710799"
   ]
  },
  {
   "cell_type": "code",
   "execution_count": 1,
   "metadata": {},
   "outputs": [],
   "source": [
    "import numpy\n",
    "import simpy\n",
    "import random\n",
    "import statistics \n",
    "import time\n",
    "import scipy\n",
    "import seaborn as sns\n",
    "import matplotlib.pyplot as plt\n",
    "import pandas as pd"
   ]
  },
  {
   "cell_type": "code",
   "execution_count": 2,
   "metadata": {},
   "outputs": [],
   "source": [
    "## First in first out system \n",
    "\n",
    "def source(env, number, lambda_1, counter, mu):\n",
    "    \"\"\"Source generates customers randomly\"\"\"\n",
    "    for i in range(number):\n",
    "        c = object(env, 'Customer%02d' % i, counter, mu)\n",
    "        env.process(c)\n",
    "        t = random.expovariate(lambda_1)     # Time before new customer arrives\n",
    "        yield env.timeout(t)\n",
    "        \n",
    "        \n",
    "def object(env, name, counter, mu):\n",
    "    \"\"\"Customer arrives, is served and leaves.\"\"\"\n",
    "    arrive = env.now\n",
    "#     print('%7.4f %s: Here I am' % (arrive, name))\n",
    "    with counter.request() as req:\n",
    "        results = yield req\n",
    "        wait = env.now - arrive\n",
    "        waiting_times.append(wait)\n",
    "        # We got to the counter\n",
    "#         print('%7.4f %s: Waited %6.3f' % (env.now, name, wait))\n",
    "        tib = random.expovariate(mu)\n",
    "        yield env.timeout(tib)\n",
    "#         print('%7.4f %s: Finished' % (env.now, name))"
   ]
  },
  {
   "cell_type": "code",
   "execution_count": 3,
   "metadata": {},
   "outputs": [
    {
     "name": "stdout",
     "output_type": "stream",
     "text": [
      "ρ is: 0.9333333333333333 with lambda: 0.06666666666666667 & mu: 0.07142857142857142 for 1 server(s).\n",
      "Average waiting time: 192.617253879132 with sd: 20.761102524103137\n",
      "\n",
      "ρ is: 0.9333333333333333 with lambda: 0.13333333333333333 & mu: 0.07142857142857142 for 2 server(s).\n",
      "Average waiting time: 92.60534837546952 with sd: 7.8554549095523605\n",
      "\n",
      "ρ is: 0.9333333333333333 with lambda: 0.26666666666666666 & mu: 0.07142857142857142 for 4 server(s).\n",
      "Average waiting time: 44.832678035345495 with sd: 3.017963959831067\n",
      "\n",
      "Running time: 1628.4171295166016\n"
     ]
    }
   ],
   "source": [
    "n_s = [1, 2, 4]                              # Number of servers\n",
    "simulations = 100\n",
    "mean_waiting_times = [[],[],[]]\n",
    "\n",
    "start_time = time.time()\n",
    "\n",
    "for n_ind in range(len(n_s)):\n",
    "    n = n_s[n_ind]\n",
    "    lambda_1 = arrival_rate = n/15              # Arrival rate, n/(inter arrival time)\n",
    "    time_in_system = 14                        # Mean time in system \n",
    "    mu = 1/time_in_system                      # How much people one server can help for a given time period \n",
    "    number_of_arrivals = 10000000000\n",
    "    print(\"\\N{greek small letter rho} is: \" + str(lambda_1/(n*mu)) + \" with lambda: \" +\n",
    "          str(lambda_1) + \" & mu: \" + str(mu) +  \" for \" + str(n) + \" server(s).\")\n",
    "    for simulation in range(simulations):\n",
    "#         print(\"Simulation: \" + str(simulation))\n",
    "        waiting_times = []\n",
    "        env = simpy.Environment()\n",
    "        server = simpy.Resource(env, capacity=n) \n",
    "        env.process(source(env,number_of_arrivals,lambda_1, server, mu))\n",
    "        env.run(until=1000000)\n",
    "#         print(\"Average waiting time for this simulation: \" + str(statistics.mean(waiting_times)))\n",
    "        mean_waiting_times[n_ind].append(statistics.mean(waiting_times))    \n",
    "    print(\"Average waiting time: \" + str(statistics.mean(mean_waiting_times[n_ind])) +\n",
    "          \" with sd: \" + str(statistics.stdev(mean_waiting_times[n_ind])) + \"\\n\")\n",
    "    \n",
    "end_time = time.time()\n",
    "print(\"Running time: \" + str(end_time - start_time))"
   ]
  },
  {
   "cell_type": "code",
   "execution_count": 4,
   "metadata": {},
   "outputs": [
    {
     "name": "stdout",
     "output_type": "stream",
     "text": [
      "ShapiroResult(statistic=0.972661554813385, pvalue=0.03545880690217018)\n",
      "ShapiroResult(statistic=0.9435343146324158, pvalue=0.0003188191039953381)\n",
      "ShapiroResult(statistic=0.9563524723052979, pvalue=0.002228413475677371)\n",
      "MannwhitneyuResult(statistic=0.0, pvalue=1.2810718345817004e-34)\n",
      "MannwhitneyuResult(statistic=0.0, pvalue=1.2810718345817004e-34)\n"
     ]
    }
   ],
   "source": [
    "statistic_1server = scipy.stats.shapiro(mean_waiting_times[0])\n",
    "print(statistic_1server)\n",
    "statistic_2server = scipy.stats.shapiro(mean_waiting_times[1])\n",
    "print(statistic_2server)\n",
    "statistic_3server = scipy.stats.shapiro(mean_waiting_times[2])\n",
    "print(statistic_3server)\n",
    "\n",
    "print(scipy.stats.mannwhitneyu(mean_waiting_times[0], mean_waiting_times[1]))\n",
    "print(scipy.stats.mannwhitneyu(mean_waiting_times[1], mean_waiting_times[2]))"
   ]
  },
  {
   "cell_type": "code",
   "execution_count": 5,
   "metadata": {},
   "outputs": [
    {
     "name": "stderr",
     "output_type": "stream",
     "text": [
      "C:\\Users\\flori\\anaconda3\\lib\\site-packages\\seaborn\\axisgrid.py:923: UserWarning: FixedFormatter should only be used together with FixedLocator\n",
      "  ax.set_yticklabels(labels, **kwargs)\n"
     ]
    },
    {
     "data": {
      "image/png": "[encoded data removed]",
      "text/plain": [
       "<Figure size 864x432 with 1 Axes>"
      ]
     },
     "metadata": {
      "needs_background": "light"
     },
     "output_type": "display_data"
    }
   ],
   "source": [
    "## Plotting the results as boxplots for different methods\n",
    "df_1_server = pd.DataFrame({'Waiting time': mean_waiting_times[0], 'Method': ['1 server' for i in range(len(mean_waiting_times[0]))], 'service_distr': ['Memoryless' for i in range(len(mean_waiting_times[0]))]})\n",
    "df_2_server = pd.DataFrame({'Waiting time': mean_waiting_times[1], 'Method': ['2 servers' for i in range(len(mean_waiting_times[1]))], 'service_distr': ['Memoryless' for i in range(len(mean_waiting_times[0]))]})\n",
    "df_3_server = pd.DataFrame({'Waiting time': mean_waiting_times[2], 'Method': ['4 servers' for i in range(len(mean_waiting_times[2]))], 'service_distr': ['Memoryless' for i in range(len(mean_waiting_times[0]))]})\n",
    "df_total = df_1_server.append(df_2_server)\n",
    "df_total = df_total.append(df_3_server)\n",
    "\n",
    "p = sns.catplot(x=\"Method\", y=\"Waiting time\", kind=\"box\", data=df_total, height=6, aspect=12/6)\n",
    "\n",
    "plt.xlabel(\"Amount of servers\", size = 20)\n",
    "plt.ylabel(\"Average waiting time\", size = 20)\n",
    "_, ylabels = plt.yticks()\n",
    "_, xlabels = plt.xticks()\n",
    "p.set_yticklabels(ylabels, size=15)\n",
    "p.set_xticklabels(xlabels, size=15)\n",
    "p.set(yscale=\"log\")\n",
    "\n",
    "x1, x2 = 0, 0.98   # columns '1 server' and '2 server' (first column: 0, see plt.xticks())\n",
    "y, h, col = df_total['Waiting time'].max() + 100, 75, 'k'\n",
    "plt.plot([x1, x1, x2, x2], [y, y+h, y+h, y], lw=1.5, c=col)\n",
    "plt.text((x1+x2)*.5, y+h, \"****\", ha='center', va='bottom', color=col)\n",
    "\n",
    "x3, x4 = 1.02, 2   # columns '2 server' and '4 server' (first column: 0, see plt.xticks())\n",
    "y1, h1, col = df_total['Waiting time'].max() + 100, 75, 'k'\n",
    "# y1, h1, col = 1, 0.25, 'k'\n",
    "plt.plot([x3, x3, x4, x4], [y1, y1+h1, y1+h1, y1], lw=1.5, c=col)\n",
    "plt.text((x3+x4)*.5, y1+h1, \"****\", ha='center', va='bottom', color=col)\n",
    "\n",
    "plt.savefig('boxplots_server_amount.png', format='png', dpi=600, bbox_inches = \"tight\")\n"
   ]
  },
  {
   "cell_type": "markdown",
   "metadata": {},
   "source": [
    "## FIFO versus priority ot the smallest job for 1 server"
   ]
  },
  {
   "cell_type": "code",
   "execution_count": 6,
   "metadata": {},
   "outputs": [],
   "source": [
    "## Give priority to the smallest job\n",
    "\n",
    "def source_prior(env, number, lambda_1, counter, mu):\n",
    "    \"\"\"Source generates customers randomly\"\"\"\n",
    "    for i in range(number):\n",
    "        c = object_prior(env, 'Customer%02d' % i, counter, mu)\n",
    "        env.process(c)\n",
    "        t = random.expovariate(lambda_1)\n",
    "        yield env.timeout(t)\n",
    "        \n",
    "        \n",
    "def object_prior(env, name, counter, mu):\n",
    "    \"\"\"Customer arrives, is served and leaves.\"\"\"\n",
    "    arrive = env.now\n",
    "#     print('%7.4f %s: Here I am' % (arrive, name))\n",
    "    tib = random.expovariate(mu)\n",
    "    with counter.request(priority = tib) as req:\n",
    "        results = yield req\n",
    "        wait = env.now - arrive\n",
    "        waiting_times_priority.append(wait)\n",
    "        # We got to the counter\n",
    "#         print('%7.4f %s: Waited %6.3f' % (env.now, name, wait))\n",
    "\n",
    "        yield env.timeout(tib)\n",
    "#         print('%7.4f %s: Finished' % (env.now, name))"
   ]
  },
  {
   "cell_type": "code",
   "execution_count": 7,
   "metadata": {},
   "outputs": [
    {
     "name": "stdout",
     "output_type": "stream",
     "text": [
      "ρ is: 0.9333333333333333 with lambda: 0.06666666666666667 & mu: 0.07142857142857142 for 1 server(s).\n",
      "Average waiting time: 59.8179147109432 with sd: 4.823470690664082\n",
      "\n",
      "Running time: 246.91836643218994\n"
     ]
    }
   ],
   "source": [
    "start_time = time.time()\n",
    "\n",
    "n = 1                                       # Number of servers\n",
    "lambda_1 = arrival_rate = n/15              # Arrival rate, events in given time period\n",
    "time_in_system = 14                         # Mean time in system \n",
    "mu = 1/time_in_system                      # How much people one server can help for a given time period \n",
    "simulations = 100\n",
    "number_of_arrivals = 10000000000\n",
    "print(\"\\N{greek small letter rho} is: \" + str(lambda_1/(n*mu)) + \" with lambda: \" +\n",
    "      str(lambda_1) + \" & mu: \" + str(mu) +  \" for \" + str(n) + \" server(s).\")\n",
    "\n",
    "mean_waiting_times_priority = []\n",
    "for simulation in range(simulations):\n",
    "#         print(\"Simulation: \" + str(simulation))\n",
    "    waiting_times_priority = []\n",
    "    env = simpy.Environment()\n",
    "    server = simpy.PriorityResource(env, capacity=n) \n",
    "    env.process(source_prior(env,number_of_arrivals,lambda_1, server, mu))\n",
    "    env.run(until=1000000)\n",
    "    mean_waiting_times_priority.append(statistics.mean(waiting_times_priority))    \n",
    "print(\"Average waiting time: \" + str(statistics.mean(mean_waiting_times_priority)) +\n",
    "      \" with sd: \" + str(statistics.stdev(mean_waiting_times_priority)) + \"\\n\")\n",
    "    \n",
    "end_time = time.time()\n",
    "print(\"Running time: \" + str(end_time - start_time))"
   ]
  },
  {
   "cell_type": "code",
   "execution_count": 8,
   "metadata": {},
   "outputs": [
    {
     "name": "stdout",
     "output_type": "stream",
     "text": [
      "ShapiroResult(statistic=0.972661554813385, pvalue=0.03545880690217018)\n",
      "ShapiroResult(statistic=0.9738414287567139, pvalue=0.04380549117922783)\n",
      "MannwhitneyuResult(statistic=0.0, pvalue=1.2810718345817004e-34)\n"
     ]
    }
   ],
   "source": [
    "statistic_1server_FIFO = scipy.stats.shapiro(mean_waiting_times[0])\n",
    "print(statistic_1server)\n",
    "statistic_1server_prior = scipy.stats.shapiro(mean_waiting_times_priority)\n",
    "print(statistic_1server_prior)\n",
    "\n",
    "print(scipy.stats.mannwhitneyu(mean_waiting_times[0], mean_waiting_times_priority))"
   ]
  },
  {
   "cell_type": "code",
   "execution_count": 9,
   "metadata": {},
   "outputs": [
    {
     "name": "stderr",
     "output_type": "stream",
     "text": [
      "C:\\Users\\flori\\anaconda3\\lib\\site-packages\\seaborn\\axisgrid.py:923: UserWarning: FixedFormatter should only be used together with FixedLocator\n",
      "  ax.set_yticklabels(labels, **kwargs)\n"
     ]
    },
    {
     "data": {
      "image/png": "[encoded data removed]",
      "text/plain": [
       "<Figure size 864x432 with 1 Axes>"
      ]
     },
     "metadata": {
      "needs_background": "light"
     },
     "output_type": "display_data"
    }
   ],
   "source": [
    "df_1_server_LOFF = pd.DataFrame({'Waiting time': mean_waiting_times[0], 'Method': ['FIFO' for i in range(len(mean_waiting_times[0]))]})\n",
    "df_1_server_prior = pd.DataFrame({'Waiting time': mean_waiting_times_priority, 'Method': ['Priority for smallest job' for i in range(len(mean_waiting_times_priority))]})\n",
    "df_total_1_server = df_1_server_LOFF.append(df_1_server_prior)\n",
    "\n",
    "p = sns.catplot(x=\"Method\", y=\"Waiting time\", kind=\"box\", data=df_total_1_server, height=6, aspect=12/6)\n",
    "\n",
    "plt.xlabel(\"Amount of servers\", size = 20)\n",
    "plt.ylabel(\"Average waiting time\", size = 20)\n",
    "_, ylabels = plt.yticks()\n",
    "_, xlabels = plt.xticks()\n",
    "p.set_yticklabels(ylabels, size=15)\n",
    "p.set_xticklabels(xlabels, size=15)\n",
    "# p.set(yscale=\"log\")\n",
    "\n",
    "x1, x2 = 0, 1   # columns 'LOFF' and 'Priority' (first column: 0, see plt.xticks())\n",
    "y, h, col = df_total['Waiting time'].max() + 10, 7.5, 'k'\n",
    "plt.plot([x1, x1, x2, x2], [y, y+h, y+h, y], lw=1.5, c=col)\n",
    "plt.text((x1+x2)*.5, y+h, \"****\", ha='center', va='bottom', color=col)\n",
    "\n",
    "plt.savefig('boxplots_1server_LOFF_priority.png', format='png', dpi=600, bbox_inches = \"tight\")\n"
   ]
  },
  {
   "cell_type": "markdown",
   "metadata": {},
   "source": [
    "## Different service rate distribution times"
   ]
  },
  {
   "cell_type": "markdown",
   "metadata": {},
   "source": [
    "### M/D/1 vs M/D/n queues"
   ]
  },
  {
   "cell_type": "code",
   "execution_count": 10,
   "metadata": {},
   "outputs": [],
   "source": [
    "## First in first out system \n",
    "def sourcec(env, number, lambda_1, counter, mu):\n",
    "    \"\"\"Source generates customers randomly\"\"\"\n",
    "    for i in range(number):\n",
    "        c = objectc(env, 'Customer%02d' % i, counter, mu)\n",
    "        env.process(c)\n",
    "        t = random.expovariate(lambda_1)     # Time before new customer arrives\n",
    "        yield env.timeout(t)\n",
    "        \n",
    "        \n",
    "def objectc(env, name, counter, mu):\n",
    "    \"\"\"Customer arrives, is served and leaves.\"\"\"\n",
    "    arrive = env.now\n",
    "#     print('%7.4f %s: Here I am' % (arrive, name))\n",
    "    with counter.request() as req:\n",
    "        results = yield req\n",
    "        wait = env.now - arrive\n",
    "        waiting_timesc.append(wait)\n",
    "        # We got to the counter\n",
    "#         print('%7.4f %s: Waited %6.3f' % (env.now, name, wait))\n",
    "        tib = 1/mu\n",
    "        yield env.timeout(tib)\n",
    "#         print('%7.4f %s: Finished' % (env.now, name))"
   ]
  },
  {
   "cell_type": "code",
   "execution_count": 11,
   "metadata": {},
   "outputs": [
    {
     "name": "stdout",
     "output_type": "stream",
     "text": [
      "ρ is: 0.9333333333333333 with lambda: 0.06666666666666667 & mu: 0.07142857142857142 for 1 server(s).\n",
      "Average waiting time: 98.14129374672586 with sd: 7.766786213017732\n",
      "\n",
      "ρ is: 0.9333333333333333 with lambda: 0.13333333333333333 & mu: 0.07142857142857142 for 2 server(s).\n",
      "Average waiting time: 47.685370611115026 with sd: 3.13703535636847\n",
      "\n",
      "ρ is: 0.9333333333333333 with lambda: 0.26666666666666666 & mu: 0.07142857142857142 for 4 server(s).\n",
      "Average waiting time: 22.8874596940379 with sd: 1.1241256847216075\n",
      "\n",
      "Running time: 1436.3065376281738\n"
     ]
    }
   ],
   "source": [
    "n_s = [1, 2, 4]                              # Number of servers\n",
    "simulations = 100\n",
    "mean_waiting_timesc = [[],[],[]]\n",
    "\n",
    "start_time = time.time()\n",
    "\n",
    "for n_ind in range(len(n_s)):\n",
    "    n = n_s[n_ind]\n",
    "    lambda_1 = arrival_rate = n/15              # Arrival rate, n/(inter arrival time)\n",
    "    time_in_system = 14                        # Mean time in system \n",
    "    mu = 1/time_in_system                      # How much people one server can help for a given time period \n",
    "    number_of_arrivals = 10000000000\n",
    "    print(\"\\N{greek small letter rho} is: \" + str(lambda_1/(n*mu)) + \" with lambda: \" +\n",
    "          str(lambda_1) + \" & mu: \" + str(mu) +  \" for \" + str(n) + \" server(s).\")\n",
    "    for simulation in range(simulations):\n",
    "#         print(\"Simulation: \" + str(simulation))\n",
    "        waiting_timesc = []\n",
    "        env = simpy.Environment()\n",
    "        server = simpy.Resource(env, capacity=n) \n",
    "        env.process(sourcec(env,number_of_arrivals,lambda_1, server, mu))\n",
    "        env.run(until=1000000)\n",
    "#         print(\"Average waiting time for this simulation: \" + str(statistics.mean(waiting_times)))\n",
    "        mean_waiting_timesc[n_ind].append(statistics.mean(waiting_timesc))    \n",
    "    print(\"Average waiting time: \" + str(statistics.mean(mean_waiting_timesc[n_ind])) +\n",
    "          \" with sd: \" + str(statistics.stdev(mean_waiting_timesc[n_ind])) + \"\\n\")\n",
    "    \n",
    "end_time = time.time()\n",
    "print(\"Running time: \" + str(end_time - start_time))"
   ]
  },
  {
   "cell_type": "code",
   "execution_count": 16,
   "metadata": {},
   "outputs": [
    {
     "name": "stdout",
     "output_type": "stream",
     "text": [
      "ShapiroResult(statistic=0.9247168898582458, pvalue=2.5268125682487153e-05)\n",
      "ShapiroResult(statistic=0.9891124367713928, pvalue=0.5934351086616516)\n",
      "ShapiroResult(statistic=0.9628115892410278, pvalue=0.006412259303033352)\n",
      "MannwhitneyuResult(statistic=0.0, pvalue=1.2810718345817004e-34)\n",
      "MannwhitneyuResult(statistic=0.0, pvalue=1.2810718345817004e-34)\n",
      "MannwhitneyuResult(statistic=0.0, pvalue=1.2810718345817004e-34)\n"
     ]
    }
   ],
   "source": [
    "statistic_1serverc = scipy.stats.shapiro(mean_waiting_timesc[0])\n",
    "print(statistic_1serverc)\n",
    "statistic_2serverc = scipy.stats.shapiro(mean_waiting_timesc[1])\n",
    "print(statistic_2serverc)\n",
    "statistic_3serverc = scipy.stats.shapiro(mean_waiting_timesc[2])\n",
    "print(statistic_3serverc)\n",
    "\n",
    "print(scipy.stats.mannwhitneyu(mean_waiting_timesc[0], mean_waiting_times[0]))\n",
    "print(scipy.stats.mannwhitneyu(mean_waiting_timesc[1], mean_waiting_times[1]))\n",
    "print(scipy.stats.mannwhitneyu(mean_waiting_timesc[2], mean_waiting_times[2]))"
   ]
  },
  {
   "cell_type": "code",
   "execution_count": 15,
   "metadata": {},
   "outputs": [
    {
     "name": "stderr",
     "output_type": "stream",
     "text": [
      "C:\\Users\\flori\\anaconda3\\lib\\site-packages\\seaborn\\axisgrid.py:923: UserWarning: FixedFormatter should only be used together with FixedLocator\n",
      "  ax.set_yticklabels(labels, **kwargs)\n"
     ]
    },
    {
     "data": {
      "image/png": "[encoded data removed]",
      "text/plain": [
       "<Figure size 535.125x432 with 1 Axes>"
      ]
     },
     "metadata": {
      "needs_background": "light"
     },
     "output_type": "display_data"
    }
   ],
   "source": [
    "df_1_serverc = pd.DataFrame({'Waiting time': mean_waiting_timesc[0], 'Method': ['1 server' for i in range(len(mean_waiting_timesc[0]))], 'service_distr': ['Deterministic' for i in range(len(mean_waiting_timesc[0]))]})\n",
    "df_2_serverc = pd.DataFrame({'Waiting time': mean_waiting_timesc[1], 'Method': ['2 servers' for i in range(len(mean_waiting_timesc[1]))], 'service_distr': ['Deterministic' for i in range(len(mean_waiting_timesc[0]))]})\n",
    "df_3_serverc = pd.DataFrame({'Waiting time': mean_waiting_timesc[2], 'Method': ['4 servers' for i in range(len(mean_waiting_timesc[2]))], 'service_distr': ['Deterministic' for i in range(len(mean_waiting_timesc[0]))]})\n",
    "\n",
    "\n",
    "df_totalc = df_total.append(df_1_serverc)\n",
    "df_totalc = df_totalc.append(df_2_serverc)\n",
    "df_totalc = df_totalc.append(df_3_serverc)\n",
    "\n",
    "\n",
    "p = sns.catplot(x=\"Method\", y=\"Waiting time\", hue = 'service_distr', kind=\"box\", data=df_totalc, height=6, aspect=8/8)\n",
    "# p = sns.swarmplot(x=\"Method\", y=\"Waiting time\", hue = 'service_distr', data=df_totalc, alpha = 0.5)\n",
    "\n",
    "plt.xlabel(\"Amount of servers\", size = 20)\n",
    "plt.ylabel(\"Average waiting time\", size = 20)\n",
    "_, ylabels = plt.yticks()\n",
    "_, xlabels = plt.xticks()\n",
    "p.set_yticklabels(ylabels, size=15)\n",
    "p.set_xticklabels(xlabels, size=15)\n",
    "p.set(yscale=\"log\")\n",
    "\n",
    "# x1, x2 = 0, 0.98   # columns '1 server' and '2 server' (first column: 0, see plt.xticks())\n",
    "# y, h, col = df_total['Waiting time'].max() + 100, 75, 'k'\n",
    "# plt.plot([x1, x1, x2, x2], [y, y+h, y+h, y], lw=1.5, c=col)\n",
    "# plt.text((x1+x2)*.5, y+h, \"****\", ha='center', va='bottom', color=col)\n",
    "\n",
    "# x3, x4 = 1.02, 2   # columns '2 server' and '4 server' (first column: 0, see plt.xticks())\n",
    "# y1, h1, col = df_total['Waiting time'].max() + 100, 75, 'k'\n",
    "# # y1, h1, col = 1, 0.25, 'k'\n",
    "# plt.plot([x3, x3, x4, x4], [y1, y1+h1, y1+h1, y1], lw=1.5, c=col)\n",
    "# plt.text((x3+x4)*.5, y1+h1, \"****\", ha='center', va='bottom', color=col)\n",
    "\n",
    "plt.savefig('boxplots_service_distr.png', format='png', dpi=600, bbox_inches = \"tight\")\n"
   ]
  },
  {
   "cell_type": "markdown",
   "metadata": {},
   "source": [
    "### Longtail distribution"
   ]
  },
  {
   "cell_type": "code",
   "execution_count": 13,
   "metadata": {},
   "outputs": [],
   "source": [
    "def source_long(env, number, lambda_1, counter, mu):\n",
    "    \"\"\"Source generates customers randomly\"\"\"\n",
    "    for i in range(number):\n",
    "        c = object_long(env, 'Customer%02d' % i, counter, mu)\n",
    "        env.process(c)\n",
    "        t = random.expovariate(lambda_1)     # Time before new customer arrives\n",
    "        yield env.timeout(t)\n",
    "        \n",
    "        \n",
    "def object_long(env, name, counter, mu):\n",
    "    \"\"\"Customer arrives, is served and leaves.\"\"\"\n",
    "    arrive = env.now\n",
    "#     print('%7.4f %s: Here I am' % (arrive, name))\n",
    "    with counter.request() as req:\n",
    "        results = yield req\n",
    "        wait = env.now - arrive\n",
    "        waiting_times_long.append(wait)\n",
    "        # We got to the counter\n",
    "#         print('%7.4f %s: Waited %6.3f' % (env.now, name, wait))\n",
    "        rand_serv = random.random()\n",
    "        if rand_serv < 0.75:\n",
    "            tib = random.expovariate(mu[0])\n",
    "        else:\n",
    "            tib = random.expovariate(mu[1])\n",
    "        yield env.timeout(tib)\n",
    "#         print('%7.4f %s: Finished' % (env.now, name))"
   ]
  },
  {
   "cell_type": "code",
   "execution_count": 14,
   "metadata": {},
   "outputs": [
    {
     "name": "stdout",
     "output_type": "stream",
     "text": [
      "ρ is: 0.9333333333333333 with lambda: 0.06666666666666667 & mu: 0.07142857142857142 for 1 server(s).\n",
      "Average waiting time: 1.276949105922774 with sd: 0.02194267962709785\n",
      "\n",
      "ρ is: 0.9333333333333333 with lambda: 0.13333333333333333 & mu: 0.07142857142857142 for 2 server(s).\n",
      "Average waiting time: 0.25417752001911226 with sd: 0.005710768924831285\n",
      "\n",
      "ρ is: 0.9333333333333333 with lambda: 0.26666666666666666 & mu: 0.07142857142857142 for 4 server(s).\n",
      "Average waiting time: 0.02627590028086383 with sd: 0.0008872738380534312\n",
      "\n",
      "Running time: 1753.0136904716492\n"
     ]
    }
   ],
   "source": [
    "n_s = [1, 2, 4]                              # Number of servers\n",
    "simulations = 100\n",
    "mean_waiting_times_long = [[],[],[]]\n",
    "\n",
    "start_time = time.time()\n",
    "\n",
    "for n_ind in range(len(n_s)):\n",
    "    n = n_s[n_ind]\n",
    "    lambda_1 = arrival_rate = n/15              # Arrival rate, n/(inter arrival time)\n",
    "    mu = [1/4, 1/(52/17)]                     # How much people one server can help for a given time period \n",
    "    number_of_arrivals = 10000000000\n",
    "    print(\"\\N{greek small letter rho} is: \" + str(lambda_1/(n*(1/14))) + \" with lambda: \" +\n",
    "          str(lambda_1) + \" & mu: \" + str(1/14) +  \" for \" + str(n) + \" server(s).\")\n",
    "    for simulation in range(simulations):\n",
    "#         print(\"Simulation: \" + str(simulation))\n",
    "        waiting_times_long = []\n",
    "        env = simpy.Environment()\n",
    "        server = simpy.Resource(env, capacity=n) \n",
    "        env.process(source_long(env,number_of_arrivals,lambda_1, server, mu))\n",
    "        env.run(until=1000000)\n",
    "        mean_waiting_times_long[n_ind].append(statistics.mean(waiting_times_long)) \n",
    "    print(\"Average waiting time: \" + str(statistics.mean(mean_waiting_times_long[n_ind])) +\n",
    "          \" with sd: \" + str(statistics.stdev(mean_waiting_times_long[n_ind])) + \"\\n\")\n",
    "    \n",
    "end_time = time.time()\n",
    "print(\"Running time: \" + str(end_time - start_time))"
   ]
  },
  {
   "cell_type": "code",
   "execution_count": null,
   "metadata": {},
   "outputs": [],
   "source": []
  }
 ],
 "metadata": {
  "kernelspec": {
   "display_name": "Python 3",
   "language": "python",
   "name": "python3"
  },
  "language_info": {
   "codemirror_mode": {
    "name": "ipython",
    "version": 3
   },
   "file_extension": ".py",
   "mimetype": "text/x-python",
   "name": "python",
   "nbconvert_exporter": "python",
   "pygments_lexer": "ipython3",
   "version": "3.8.3"
  }
 },
 "nbformat": 4,
 "nbformat_minor": 4
}
